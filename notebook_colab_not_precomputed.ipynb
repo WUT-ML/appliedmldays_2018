{
 "cells": [
  {
   "cell_type": "code",
   "execution_count": 0,
   "metadata": {
    "colab": {
     "autoexec": {
      "startup": false,
      "wait_interval": 0
     }
    },
    "colab_type": "code",
    "id": "SE5cy9LS5SAo"
   },
   "outputs": [],
   "source": [
    "!pip install ipywidgets"
   ]
  },
  {
   "cell_type": "code",
   "execution_count": 0,
   "metadata": {
    "colab": {
     "autoexec": {
      "startup": false,
      "wait_interval": 0
     }
    },
    "colab_type": "code",
    "id": "Fu0mwpwX5Qxg"
   },
   "outputs": [],
   "source": [
    "%matplotlib inline\n",
    "import os\n",
    "from io import BytesIO\n",
    "\n",
    "import ipywidgets as ipy\n",
    "import matplotlib.pyplot as plt\n",
    "import numpy as np\n",
    "\n",
    "from PIL import Image\n",
    "from scipy.stats import zscore\n",
    "from skimage import io\n",
    "from sklearn.cluster import DBSCAN\n",
    "from sklearn.decomposition import PCA\n",
    "from sklearn.preprocessing import minmax_scale\n",
    "from sklearn.manifold import TSNE\n",
    "\n",
    "from google.colab import files"
   ]
  },
  {
   "cell_type": "markdown",
   "metadata": {
    "colab_type": "text",
    "id": "RWbY9Hsc5Qxj"
   },
   "source": [
    "## 1. read single image, and display it"
   ]
  },
  {
   "cell_type": "markdown",
   "metadata": {
    "colab_type": "text",
    "id": "jHjBQzva5Qxk"
   },
   "source": [
    "#### read image"
   ]
  },
  {
   "cell_type": "code",
   "execution_count": 0,
   "metadata": {
    "colab": {
     "autoexec": {
      "startup": false,
      "wait_interval": 0
     }
    },
    "colab_type": "code",
    "id": "dwhGdCIS5oRp"
   },
   "outputs": [],
   "source": [
    "uploaded = files.upload()"
   ]
  },
  {
   "cell_type": "code",
   "execution_count": 0,
   "metadata": {
    "colab": {
     "autoexec": {
      "startup": false,
      "wait_interval": 0
     }
    },
    "colab_type": "code",
    "id": "W7RNJkNB5qGA"
   },
   "outputs": [],
   "source": [
    "img = uploaded['timepoint_12.tiff']\n",
    "single_img = io.imread(BytesIO(img))"
   ]
  },
  {
   "cell_type": "markdown",
   "metadata": {
    "colab_type": "text",
    "id": "_sWURJNX5Qxo"
   },
   "source": [
    "#### check data type and shape"
   ]
  },
  {
   "cell_type": "code",
   "execution_count": 0,
   "metadata": {
    "colab": {
     "autoexec": {
      "startup": false,
      "wait_interval": 0
     }
    },
    "colab_type": "code",
    "id": "IHYRh8-Q5Qxp"
   },
   "outputs": [],
   "source": [
    "print(type(single_img))\n",
    "print(single_img.shape)"
   ]
  },
  {
   "cell_type": "markdown",
   "metadata": {
    "colab_type": "text",
    "id": "FfMqR-mF5Qxy"
   },
   "source": [
    "#### plot single image"
   ]
  },
  {
   "cell_type": "code",
   "execution_count": 0,
   "metadata": {
    "colab": {
     "autoexec": {
      "startup": false,
      "wait_interval": 0
     }
    },
    "colab_type": "code",
    "id": "bIm_WGAM5Qxz"
   },
   "outputs": [],
   "source": [
    "fig, ax = plt.subplots(figsize=(4, 8)) # here you can change figure size\n",
    "ax.matshow(single_img[28,:,:], cmap='hot') # integer number is layer index (here 28)"
   ]
  },
  {
   "cell_type": "markdown",
   "metadata": {
    "colab_type": "text",
    "id": "oXcKMimn5Qx6"
   },
   "source": [
    "# Load dataset"
   ]
  },
  {
   "cell_type": "markdown",
   "metadata": {
    "colab_type": "text",
    "id": "5-bSdFVE5Qx7"
   },
   "source": [
    "We will need data in two different forms\n",
    "1. `images_dict`. It it dictionary (Python data structure)\n",
    "2. `images_matrix`. 2-dimensional numpy array\n",
    "\n",
    "Select all timepoints, that is 100 tiff files"
   ]
  },
  {
   "cell_type": "code",
   "execution_count": 0,
   "metadata": {
    "colab": {
     "autoexec": {
      "startup": false,
      "wait_interval": 0
     }
    },
    "colab_type": "code",
    "id": "53br1dkg8guG"
   },
   "outputs": [],
   "source": [
    "uploaded = files.upload()"
   ]
  },
  {
   "cell_type": "code",
   "execution_count": 0,
   "metadata": {
    "colab": {
     "autoexec": {
      "startup": false,
      "wait_interval": 0
     }
    },
    "colab_type": "code",
    "id": "KWMs-Hhm5Qx7"
   },
   "outputs": [],
   "source": [
    "images_dict = dict()\n",
    "images_matrix = np.zeros([100, 40*256*180])\n",
    "\n",
    "for i in range(100):\n",
    "  img_name = 'timepoint_{:02d}.tiff'.format(i)\n",
    "  img_bytes = uploaded[img_name]\n",
    "  img = io.imread(BytesIO(img_bytes))\n",
    "  images_dict[img_name[:-5]] = img\n",
    "  images_matrix[i] = np.reshape(img, [-1], order='C')\n",
    "print(images_matrix.shape)"
   ]
  },
  {
   "cell_type": "markdown",
   "metadata": {
    "colab_type": "text",
    "id": "y0CPuYML5Qx_"
   },
   "source": [
    "# Work towards PCA analysis"
   ]
  },
  {
   "cell_type": "markdown",
   "metadata": {
    "colab_type": "text",
    "id": "Q5bHePsD5Qx_"
   },
   "source": [
    "In order to perform PCA analysis, images need to be preprocessed in the certain way. This part of the notebook will guide you through this process."
   ]
  },
  {
   "cell_type": "markdown",
   "metadata": {
    "colab_type": "text",
    "id": "xHzHhbxb5QyA"
   },
   "source": [
    "## 2. subtract background"
   ]
  },
  {
   "cell_type": "markdown",
   "metadata": {
    "colab_type": "text",
    "id": "Dt8ME-jF5QyC"
   },
   "source": [
    "#### interactive widget\n",
    "Here you can interactively explore which threshold value is most appropriate.\n",
    "1. threshold slider -> to pick different values of the threshold\n",
    "2. img_layer slider -> to browse different layer in the images stack"
   ]
  },
  {
   "cell_type": "code",
   "execution_count": 0,
   "metadata": {
    "colab": {
     "autoexec": {
      "startup": false,
      "wait_interval": 0
     }
    },
    "colab_type": "code",
    "id": "tCkqAJ7L5QyC"
   },
   "outputs": [],
   "source": [
    "@ipy.interact(threshold=ipy.widgets.IntSlider(value=90, min=90, max=170))\n",
    "def f(threshold):\n",
    "    timepoint = np.copy(images_dict['timepoint_12'])\n",
    "    timepoint[timepoint <= threshold] = 0\n",
    "\n",
    "    @ipy.interact(img_layer=ipy.widgets.IntSlider(value=26, min=0, max=39))\n",
    "    def f(img_layer):\n",
    "        fig, ax = plt.subplots(figsize=(5,10))\n",
    "        ax.matshow(timepoint[img_layer,:,:], cmap='hot')"
   ]
  },
  {
   "cell_type": "markdown",
   "metadata": {
    "colab_type": "text",
    "id": "6H9yOegU5QyH"
   },
   "source": [
    "#### non-interactive version"
   ]
  },
  {
   "cell_type": "code",
   "execution_count": 0,
   "metadata": {
    "colab": {
     "autoexec": {
      "startup": false,
      "wait_interval": 0
     }
    },
    "colab_type": "code",
    "id": "2Ttgfl4e5QyH"
   },
   "outputs": [],
   "source": [
    "threshold = 120 # manipulate this\n",
    "timepoint = np.copy(images_dict['timepoint_12'])\n",
    "timepoint[timepoint <= threshold] = 0\n",
    "fig, ax = plt.subplots(figsize=(5,10))\n",
    "ax.matshow(timepoint[26,:,:], cmap='hot') # review several image layers"
   ]
  },
  {
   "cell_type": "markdown",
   "metadata": {
    "colab_type": "text",
    "id": "xnNLD74S5QyL"
   },
   "source": [
    "### 2.1 compare before-after"
   ]
  },
  {
   "cell_type": "code",
   "execution_count": 0,
   "metadata": {
    "colab": {
     "autoexec": {
      "startup": false,
      "wait_interval": 0
     }
    },
    "colab_type": "code",
    "id": "3G5RjND65QyM"
   },
   "outputs": [],
   "source": [
    "@ipy.interact(img_layer=ipy.widgets.IntSlider(value=26, min=0, max=39))\n",
    "def f(img_layer):\n",
    "    fig, (ax1, ax2) = plt.subplots(nrows=1, ncols=2, figsize=(10,10))\n",
    "    ax1.matshow(images_dict['timepoint_12'][img_layer,:,:], cmap='hot')\n",
    "    ax1.set_title('before', size='26')\n",
    "    ax2.matshow(timepoint[img_layer,:,:], cmap='hot')\n",
    "    ax2.set_title('after', size='26')"
   ]
  },
  {
   "cell_type": "code",
   "execution_count": 0,
   "metadata": {
    "colab": {
     "autoexec": {
      "startup": false,
      "wait_interval": 0
     }
    },
    "colab_type": "code",
    "id": "-ME5HtFS5QyQ"
   },
   "outputs": [],
   "source": [
    "fig, (ax1, ax2) = plt.subplots(nrows=1, ncols=2, figsize=(10,10))\n",
    "ax1.matshow(images_dict['timepoint_12'][26,:,:], cmap='hot')\n",
    "ax1.set_title('before', size='26')\n",
    "\n",
    "ax2.matshow(timepoint[26,:,:], cmap='hot')\n",
    "ax2.set_title('after', size='26')"
   ]
  },
  {
   "cell_type": "markdown",
   "metadata": {
    "colab_type": "text",
    "id": "JVjhcqG45QyY"
   },
   "source": [
    "## 3. remove pixels with zeros"
   ]
  },
  {
   "cell_type": "markdown",
   "metadata": {
    "colab_type": "text",
    "id": "C87-IPPW5Qya"
   },
   "source": [
    "### 3.1 get indices with nonzero pixels"
   ]
  },
  {
   "cell_type": "markdown",
   "metadata": {
    "colab_type": "text",
    "id": "bPt7xu6w5Qyb"
   },
   "source": [
    "Procedure is as follows:\n",
    "1. vectorize image stack `timepoint`.\n",
    "2. get only nonzero positions in the vector\n",
    "\n",
    "As a result the `inx` stores indices of nonzero values."
   ]
  },
  {
   "cell_type": "code",
   "execution_count": 0,
   "metadata": {
    "colab": {
     "autoexec": {
      "startup": false,
      "wait_interval": 0
     }
    },
    "colab_type": "code",
    "id": "RwJVq0jI5Qye"
   },
   "outputs": [],
   "source": [
    "timepoint_vector = np.reshape(timepoint, [-1], order='C')\n",
    "timepoint_vector.shape\n",
    "\n",
    "inx = np.nonzero(timepoint_vector)\n",
    "print(inx[0])\n",
    "print(len(inx[0]))"
   ]
  },
  {
   "cell_type": "markdown",
   "metadata": {
    "colab_type": "text",
    "id": "9yS7ky1N5Qym"
   },
   "source": [
    "### 3.2 get only foreground pixels"
   ]
  },
  {
   "cell_type": "code",
   "execution_count": 0,
   "metadata": {
    "colab": {
     "autoexec": {
      "startup": false,
      "wait_interval": 0
     }
    },
    "colab_type": "code",
    "id": "n3_1O6q55Qyo"
   },
   "outputs": [],
   "source": [
    "images_matrix_fg = np.zeros([100, len(inx[0])]) # fg = foreground\n",
    "for i in range(images_matrix.shape[0]):\n",
    "    images_matrix_fg[i,:] = images_matrix[i,inx[0]]\n",
    "\n",
    "print('images matrix has shape:            {}'.format(images_matrix.shape))\n",
    "print('images matrix foreground has shape: {}'.format(images_matrix_fg.shape))"
   ]
  },
  {
   "cell_type": "markdown",
   "metadata": {
    "colab_type": "text",
    "id": "DJ4WE6hO5Qyu"
   },
   "source": [
    "## 4. normalize input"
   ]
  },
  {
   "cell_type": "code",
   "execution_count": 0,
   "metadata": {
    "colab": {
     "autoexec": {
      "startup": false,
      "wait_interval": 0
     }
    },
    "colab_type": "code",
    "id": "vtoZFcsT5Qyu"
   },
   "outputs": [],
   "source": [
    "images_matrix_fg_norm = zscore(images_matrix_fg, axis=1)\n",
    "images_matrix_fg_norm = np.nan_to_num(images_matrix_fg_norm)\n",
    "\n",
    "#im2d_n = zscore(im2d_fg, axis=0) # im2d_n = image 2d normalized (double check the axis (0,1,None))\n",
    "#im2d_n = np.nan_to_num(im2d_n)"
   ]
  },
  {
   "cell_type": "markdown",
   "metadata": {
    "colab_type": "text",
    "id": "DFtr-Ng05Qyy"
   },
   "source": [
    "### 4.1 check normalization"
   ]
  },
  {
   "cell_type": "code",
   "execution_count": 0,
   "metadata": {
    "colab": {
     "autoexec": {
      "startup": false,
      "wait_interval": 0
     }
    },
    "colab_type": "code",
    "id": "0tnILGIo5Qyy"
   },
   "outputs": [],
   "source": [
    "print('max value:   {}'.format(images_matrix_fg_norm.max()))\n",
    "print('min value:   {}'.format(images_matrix_fg_norm.min()))\n",
    "print('mean values: {}'.format(images_matrix_fg_norm.mean(axis=1)))\n",
    "print('std values:  {}'.format(images_matrix_fg_norm.std(axis=1)))\n",
    "#im2d_n.std(axis=0)"
   ]
  },
  {
   "cell_type": "markdown",
   "metadata": {
    "colab_type": "text",
    "id": "QjWO-VMq5Qy0"
   },
   "source": [
    "## 5. clip outliers"
   ]
  },
  {
   "cell_type": "code",
   "execution_count": 0,
   "metadata": {
    "colab": {
     "autoexec": {
      "startup": false,
      "wait_interval": 0
     }
    },
    "colab_type": "code",
    "id": "QA3MYeZW5Qy1"
   },
   "outputs": [],
   "source": [
    "images_matrix_fg_norm_clipped = np.clip(images_matrix_fg_norm, a_min=-3.0, a_max=3.0)\n",
    "print('min: {}'.format(images_matrix_fg_norm_clipped.min()))\n",
    "print('max: {}'.format(images_matrix_fg_norm_clipped.max()))"
   ]
  },
  {
   "cell_type": "markdown",
   "metadata": {
    "colab_type": "text",
    "id": "X2Zrzg0k5Qy6"
   },
   "source": [
    "## 6. calculate PCA"
   ]
  },
  {
   "cell_type": "code",
   "execution_count": 0,
   "metadata": {
    "colab": {
     "autoexec": {
      "startup": false,
      "wait_interval": 0
     }
    },
    "colab_type": "code",
    "id": "-u5N9Sgm5Qy7"
   },
   "outputs": [],
   "source": [
    "n_components = 50\n",
    "pca = PCA(n_components=n_components)\n",
    "pca_space = pca.fit_transform(images_matrix_fg_norm_clipped)"
   ]
  },
  {
   "cell_type": "markdown",
   "metadata": {
    "colab_type": "text",
    "id": "hQKZR0-y5Qy9"
   },
   "source": [
    "### 6.1 check output"
   ]
  },
  {
   "cell_type": "code",
   "execution_count": 0,
   "metadata": {
    "colab": {
     "autoexec": {
      "startup": false,
      "wait_interval": 0
     }
    },
    "colab_type": "code",
    "id": "HO0_-5M45Qy-"
   },
   "outputs": [],
   "source": [
    "print('output data type: ' + str(type(pca_space)))\n",
    "print('output shape:     ' + str(pca_space.shape))"
   ]
  },
  {
   "cell_type": "markdown",
   "metadata": {
    "colab_type": "text",
    "id": "zNpDyyQx5QzC"
   },
   "source": [
    "#### 6.1 prepare principal components for visualization\n",
    "Reshape back to the original size (256, 180, 40)"
   ]
  },
  {
   "cell_type": "code",
   "execution_count": 0,
   "metadata": {
    "colab": {
     "autoexec": {
      "startup": false,
      "wait_interval": 0
     }
    },
    "colab_type": "code",
    "id": "4sQLVC7z5QzD"
   },
   "outputs": [],
   "source": [
    "pca_space_bg = np.zeros([40*256*180, n_components]) # pca_space_bg = PCA space with background (zeros)\n",
    "for i in range(pca_space_bg.shape[1]):\n",
    "    pca_space_bg[inx, i]= pca.components_[i,:] # Note that here we make use of the previously computed inx\n",
    "pca_space_bg = pca_space_bg.reshape([40, 256, 180, -1])\n",
    "print(pca_space_bg.shape)"
   ]
  },
  {
   "cell_type": "markdown",
   "metadata": {
    "colab_type": "text",
    "id": "Ld0ZZOjz5QzG"
   },
   "source": [
    "## 7. visualize principal components"
   ]
  },
  {
   "cell_type": "markdown",
   "metadata": {
    "colab_type": "text",
    "id": "ipOC4BYk5QzH"
   },
   "source": [
    "#### interactive widget"
   ]
  },
  {
   "cell_type": "code",
   "execution_count": 0,
   "metadata": {
    "colab": {
     "autoexec": {
      "startup": false,
      "wait_interval": 0
     }
    },
    "colab_type": "code",
    "id": "_5Fc0hpE5QzI"
   },
   "outputs": [],
   "source": [
    "@ipy.interact(principal_component=ipy.widgets.IntSlider(value=0, min=0, max=59))\n",
    "def f(principal_component):\n",
    "    @ipy.interact(img_layer=ipy.widgets.IntSlider(value=26, min=0, max=39))\n",
    "    def f(img_layer):\n",
    "        fig, ax = plt.subplots(figsize=(7,7))\n",
    "        cax = ax.matshow(pca_space_bg[img_layer,:,:, principal_component], cmap='PiYG')\n",
    "        fig.colorbar(cax)"
   ]
  },
  {
   "cell_type": "markdown",
   "metadata": {
    "colab_type": "text",
    "id": "jFMTl9JN5QzL"
   },
   "source": [
    "#### Interactive wigdet: display only max projections (easier to visually inspect)"
   ]
  },
  {
   "cell_type": "code",
   "execution_count": 0,
   "metadata": {
    "colab": {
     "autoexec": {
      "startup": false,
      "wait_interval": 0
     }
    },
    "colab_type": "code",
    "id": "cyQSQzKM5QzL"
   },
   "outputs": [],
   "source": [
    "pca_abs = np.abs(pca_space_bg)\n",
    "@ipy.interact(principal_component=ipy.widgets.IntSlider(value=0, min=0, max=59))\n",
    "def f(principal_component):\n",
    "    fig, ax = plt.subplots(figsize=(7,7))\n",
    "    ax.matshow(pca_abs.max(axis=0)[:,:,principal_component], cmap='hot')"
   ]
  },
  {
   "cell_type": "markdown",
   "metadata": {
    "colab_type": "text",
    "id": "rcDPGiPP5QzP"
   },
   "source": [
    "#### non-interactive: display only max projections (easier to visually inspect)"
   ]
  },
  {
   "cell_type": "code",
   "execution_count": 0,
   "metadata": {
    "colab": {
     "autoexec": {
      "startup": false,
      "wait_interval": 0
     }
    },
    "colab_type": "code",
    "id": "a9x174kt5QzP"
   },
   "outputs": [],
   "source": [
    "pca_abs = np.abs(pca_space_bg)"
   ]
  },
  {
   "cell_type": "code",
   "execution_count": 0,
   "metadata": {
    "colab": {
     "autoexec": {
      "startup": false,
      "wait_interval": 0
     }
    },
    "colab_type": "code",
    "id": "Q1ZeWTmX5QzR"
   },
   "outputs": [],
   "source": [
    "fig, ax = plt.subplots(figsize=(7,7))\n",
    "ax.matshow(pca_abs.max(axis=0)[:,:,0], cmap='hot') # change int here"
   ]
  },
  {
   "cell_type": "code",
   "execution_count": 0,
   "metadata": {
    "colab": {
     "autoexec": {
      "startup": false,
      "wait_interval": 0
     }
    },
    "colab_type": "code",
    "id": "eLpyVtK65QzW"
   },
   "outputs": [],
   "source": [
    "# three plot on one figure\n",
    "fig, (ax1, ax2, ax3) = plt.subplots(nrows=1, ncols=3, figsize=(12,12))\n",
    "ax1.matshow(pca_abs.max(axis=0)[:,:,0], cmap='hot') # change int here (range = 0, n_components)\n",
    "ax2.matshow(pca_abs.max(axis=0)[:,:,1], cmap='hot') # change int here (range = 0, n_components)\n",
    "ax3.matshow(pca_abs.max(axis=0)[:,:,2], cmap='hot') # change int here (range = 0, n_components)"
   ]
  },
  {
   "cell_type": "markdown",
   "metadata": {
    "colab_type": "text",
    "id": "HZOHbXKF5Qza"
   },
   "source": [
    "## 12. visualize variance explained ratio"
   ]
  },
  {
   "cell_type": "code",
   "execution_count": 0,
   "metadata": {
    "colab": {
     "autoexec": {
      "startup": false,
      "wait_interval": 0
     }
    },
    "colab_type": "code",
    "id": "IoJcaN625Qza"
   },
   "outputs": [],
   "source": [
    "fig, (ax1, ax2) = plt.subplots(nrows=1, ncols=2, figsize=(10,5), facecolor='w')\n",
    "ax1.plot(pca.explained_variance_ratio_, color='black', lw=2)\n",
    "ax1.grid(axis='both')\n",
    "ax1.set_ylabel('proportion of variance explained', fontsize=10)\n",
    "ax1.set_xlabel('principal component', fontsize=10)\n",
    "\n",
    "ax2.plot(np.cumsum(pca.explained_variance_ratio_), color='black', lw=2)\n",
    "ax2.grid(axis='both')\n",
    "ax2.set_ylabel('cumulative proportion of variance explained', fontsize=10)\n",
    "ax2.set_xlabel('number of components', fontsize=10)"
   ]
  },
  {
   "cell_type": "markdown",
   "metadata": {
    "colab_type": "text",
    "id": "0XhI7_FX5Qzm"
   },
   "source": [
    "### end of the PCA analysis\n",
    "\n",
    "If this task was easy for you, you may want to try different dimensionality reduction methods. Sklearn offers coherent API for many methods.\n",
    "Please refer to sklearn.decomposition module: http://scikit-learn.org/stable/modules/classes.html#module-sklearn.decomposition."
   ]
  },
  {
   "cell_type": "markdown",
   "metadata": {
    "colab_type": "text",
    "id": "qKvfaed75Qzm"
   },
   "source": [
    "# calculate t-SNE embeddings on the PCA space"
   ]
  },
  {
   "cell_type": "code",
   "execution_count": 0,
   "metadata": {
    "colab": {
     "autoexec": {
      "startup": false,
      "wait_interval": 0
     }
    },
    "colab_type": "code",
    "id": "HRy1RHdh5Qzn"
   },
   "outputs": [],
   "source": [
    "from sklearn.manifold import TSNE"
   ]
  },
  {
   "cell_type": "markdown",
   "metadata": {
    "colab_type": "text",
    "id": "38rSCmgy5Qzq"
   },
   "source": [
    "### prepare PCA space"
   ]
  },
  {
   "cell_type": "code",
   "execution_count": 0,
   "metadata": {
    "colab": {
     "autoexec": {
      "startup": false,
      "wait_interval": 0
     }
    },
    "colab_type": "code",
    "id": "4bu4IGnT5Qzr"
   },
   "outputs": [],
   "source": [
    "n_components = 99\n",
    "pca = PCA(n_components=n_components)\n",
    "pca_space = pca.fit_transform(images_matrix_fg_norm_clipped)\n",
    "print('pca space dimensions: {}'.format(pca_space.shape))"
   ]
  },
  {
   "cell_type": "markdown",
   "metadata": {
    "colab_type": "text",
    "id": "Lc8TG50m5Qzv"
   },
   "source": [
    "### explore t-SNE embeddings as a function of the perplexity"
   ]
  },
  {
   "cell_type": "code",
   "execution_count": 0,
   "metadata": {
    "colab": {
     "autoexec": {
      "startup": false,
      "wait_interval": 0
     }
    },
    "colab_type": "code",
    "id": "LgOYC2US5Qzz"
   },
   "outputs": [],
   "source": [
    "@ipy.interact(perplexity=ipy.widgets.IntSlider(value=29, min=0, max=50))\n",
    "def f(perplexity):\n",
    "    tsne = TSNE(n_components=2, n_iter=1000,  perplexity=perplexity)\n",
    "    tsne_output = tsne.fit_transform(pca_space)\n",
    "    print('t-SNE output has shape: {}'.format(tsne_output.shape))\n",
    "    fig, ax = plt.subplots(figsize=(7,7))\n",
    "    ax.scatter(tsne_output[:,0], tsne_output[:,1])\n",
    "    ax.grid(axis='both')"
   ]
  },
  {
   "cell_type": "markdown",
   "metadata": {
    "colab_type": "text",
    "id": "OZK7G27d5Qz3"
   },
   "source": [
    "# cluster t-SNE embeddings using DBSCAN"
   ]
  },
  {
   "cell_type": "code",
   "execution_count": 0,
   "metadata": {
    "colab": {
     "autoexec": {
      "startup": false,
      "wait_interval": 0
     }
    },
    "colab_type": "code",
    "id": "foKruuu-5Qz3"
   },
   "outputs": [],
   "source": [
    "from sklearn.cluster import DBSCAN"
   ]
  },
  {
   "cell_type": "markdown",
   "metadata": {
    "colab_type": "text",
    "id": "dMTfpnCS5Qz7"
   },
   "source": [
    "### explore clustering results as a function of two parameters: eps and nim_samples"
   ]
  },
  {
   "cell_type": "code",
   "execution_count": 0,
   "metadata": {
    "colab": {
     "autoexec": {
      "startup": false,
      "wait_interval": 0
     }
    },
    "colab_type": "code",
    "id": "MZcFvU5L5Qz8"
   },
   "outputs": [],
   "source": [
    "tsne = TSNE(n_components=2, n_iter=1000,  perplexity=29)\n",
    "tsne_output = tsne.fit_transform(pca_space)\n",
    "@ipy.interact(eps=ipy.widgets.FloatSlider(value=1.2, min=0, max=10))\n",
    "def f(eps):\n",
    "    @ipy.interact(min_samples=ipy.widgets.IntSlider(value=5, min=3, max=50))\n",
    "    def g(min_samples):\n",
    "        dbscan = DBSCAN(eps=eps, min_samples=min_samples)\n",
    "        dbscan_output = dbscan.fit_predict(tsne_output)\n",
    "        plt.scatter(x=tsne_output[:,0], y=tsne_output[:,1], c=dbscan_output)\n",
    "        plt.grid()\n",
    "        print(dbscan_output)"
   ]
  },
  {
   "cell_type": "markdown",
   "metadata": {
    "colab_type": "text",
    "id": "SWK-8cQr5Qz_"
   },
   "source": [
    "# Final remarks"
   ]
  },
  {
   "cell_type": "code",
   "execution_count": 0,
   "metadata": {
    "colab": {
     "autoexec": {
      "startup": false,
      "wait_interval": 0
     }
    },
    "colab_type": "code",
    "id": "Dt4FH2Il5Q0A"
   },
   "outputs": [],
   "source": [
    "final_chart = pca_abs.max(axis=0)[:,:,[2,9,12]]\n",
    "final_chart = final_chart / final_chart.max()\n",
    "final_chart = final_chart*255\n",
    "img = Image.fromarray(final_chart.astype(np.uint8))\n",
    "\n",
    "fig, ax = plt.subplots(figsize=(10,10))\n",
    "ax.imshow(img)"
   ]
  },
  {
   "cell_type": "markdown",
   "metadata": {
    "colab_type": "text",
    "id": "5JEiC8gl5Q0C"
   },
   "source": [
    "# end"
   ]
  }
 ],
 "metadata": {
  "colab": {
   "default_view": {},
   "name": "notebook_local_precomputed.ipynb",
   "provenance": [],
   "version": "0.3.2",
   "views": {}
  },
  "kernelspec": {
   "display_name": "Python 3",
   "language": "python",
   "name": "python3"
  },
  "language_info": {
   "codemirror_mode": {
    "name": "ipython",
    "version": 3
   },
   "file_extension": ".py",
   "mimetype": "text/x-python",
   "name": "python",
   "nbconvert_exporter": "python",
   "pygments_lexer": "ipython3",
   "version": "3.5.2"
  }
 },
 "nbformat": 4,
 "nbformat_minor": 1
}
